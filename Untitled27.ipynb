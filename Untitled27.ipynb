import numpy as np
import pandas as pd
from sklearn.preprocessing import MinMaxScaler
from tensorflow.keras.models import Sequential
from tensorflow.keras.layers import LSTM, Dense
from tensorflow.keras.optimizers import Adam
import tensorflow.keras.backend as K
from skopt import gp_minimize
from skopt.space import Integer
from skopt.utils import use_named_args

# Simulate your dataset (replace with your real data)
np.random.seed(42)
dates = pd.date_range(start='2022-01-01', periods=300)
df_original = pd.DataFrame({
    'pnl': np.random.normal(0, 0.5, size=300),
    'cds_level': 100 + np.cumsum(np.random.normal(0, 0.5, size=300)),
    'cs01': np.random.uniform(0.5, 1.5, size=300),
}, index=dates)

# Define optimization space
space = [
    Integer(1, 10, name='return_horizon'),
    Integer(10, 60, name='corr_window'),
    Integer(10, 40, name='lookback')
]

@use_named_args(space)
def objective(return_horizon, corr_window, lookback):
    df = df_original.copy()
    df['cds_return'] = df['cds_level'].pct_change(periods=return_horizon)
    df.dropna(inplace=True)
    df['rolling_corr'] = df['pnl'].rolling(window=corr_window).corr(df['cds_return'])
    df.dropna(inplace=True)

    if len(df) < lookback + 50:
        return 1e6

    df['ideal_scaler'] = -df['pnl'] / (df['cs01'] * df['cds_return'])
    df['ideal_scaler'] = df['ideal_scaler'].clip(0, 1)

    features = ['pnl', 'cds_return', 'cs01', 'rolling_corr']
    scaler_X = MinMaxScaler()
    X_scaled = scaler_X.fit_transform(df[features])
    y = df['ideal_scaler'].values

    X_seq, y_seq = [], []
    for i in range(lookback, len(X_scaled)):
        X_seq.append(X_scaled[i-lookback:i])
        y_seq.append(y[i])
    X_seq, y_seq = np.array(X_seq), np.array(y_seq)

    if len(X_seq) < 50:
        return 1e6

    K.clear_session()
    model = Sequential()
    model.add(LSTM(32, input_shape=(lookback, X_seq.shape[2])))
    model.add(Dense(1, activation='sigmoid'))
    model.compile(optimizer=Adam(0.001), loss='mse')
    model.fit(X_seq, y_seq, epochs=10, batch_size=32, verbose=0, validation_split=0.2, shuffle=False)

    preds = model.predict(X_seq).flatten()
    df_eval = df.iloc[lookback:].copy()
    df_eval['hedge_scaler'] = preds
    df_eval['hedge_notional'] = df_eval['hedge_scaler'] * df_eval['cs01']
    df_eval['hedge_pnl'] = df_eval['hedge_notional'] * df_eval['cds_return']
    df_eval['total_pnl'] = df_eval['pnl'] + df_eval['hedge_pnl']

    return -df_eval['total_pnl'].sum()

# Run optimization
res = gp_minimize(objective, space, n_calls=20, random_state=42)

# Print best parameters and performance
print("✅ Best Parameters:")
print(f"Return Horizon: {res.x[0]} days")
print(f"Rolling Corr Window: {res.x[1]} days")
print(f"LSTM Lookback: {res.x[2]} days")
print(f"Maximized Total Hedged PnL: {-res.fun:.2f}M")