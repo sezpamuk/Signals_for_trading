import pandas as pd
import numpy as np
import matplotlib.pyplot as plt
from ta.trend import SMAIndicator, MACD
from ta.momentum import RSIIndicator
from sklearn.decomposition import PCA

# -----------------------------
# 1. Simulate Data (Replace with real CSVs)
# -----------------------------
dates = pd.date_range(start="2022-01-01", periods=500, freq="B")
cds_data = pd.DataFrame({
    'CDX_IG': np.cumsum(np.random.randn(500)) + 50,
    'CDX_EM': np.cumsum(np.random.randn(500)) + 100,
    'ITRX_MAIN': np.cumsum(np.random.randn(500)) + 60,
    'ITRX_XOVER': np.cumsum(np.random.randn(500)) + 200
}, index=dates)

# Simulate 1000 bonds with Z-spreads
n_bonds = 1000
bond_zspread = pd.DataFrame(
    np.cumsum(np.random.randn(500, n_bonds), axis=0) + 100,
    index=dates,
    columns=[f"ISIN_{i}" for i in range(n_bonds)]
)

# Simulated CS01 per bond
bond_cs01 = pd.Series(np.random.uniform(0.05, 0.5, size=n_bonds), index=bond_zspread.columns)

# Constants
initial_capital = 100_000  # USD
cs01_exposure = 1_000  # USD per CDS index

# -----------------------------
# 2. Best Parameters (Simulated)
# -----------------------------
best_params = {
    'CDX_IG': {'short_window': 5, 'long_window': 20, 'rsi_period': 14, 'rsi_buy': 30, 'rsi_sell': 70},
    'CDX_EM': {'short_window': 10, 'long_window': 50, 'rsi_period': 14, 'rsi_buy': 35, 'rsi_sell': 65},
    'ITRX_MAIN': {'short_window': 8, 'long_window': 30, 'rsi_period': 10, 'rsi_buy': 25, 'rsi_sell': 75},
    'ITRX_XOVER': {'short_window': 12, 'long_window': 60, 'rsi_period': 20, 'rsi_buy': 40, 'rsi_sell': 60}
}

component_pnl_df = pd.DataFrame([
    {'CDS Index': 'CDX_IG', 'Signal Type': 'SMA', 'Parameters': best_params['CDX_IG'], 'Total PnL ($)': 12000, 'Sharpe': 1.2},
    {'CDS Index': 'CDX_EM', 'Signal Type': 'MACD', 'Parameters': best_params['CDX_EM'], 'Total PnL ($)': 18000, 'Sharpe': 1.8},
    {'CDS Index': 'ITRX_MAIN', 'Signal Type': 'RSI', 'Parameters': best_params['ITRX_MAIN'], 'Total PnL ($)': 15000, 'Sharpe': 1.5},
    {'CDS Index': 'ITRX_XOVER', 'Signal Type': 'SMA', 'Parameters': best_params['ITRX_XOVER'], 'Total PnL ($)': 22000, 'Sharpe': 2.2},
])

# -----------------------------
# 3. Helper: Filter Buy/Sell Alternation
# -----------------------------
def filter_signals(signal_series):
    filtered = []
    prev = 0
    for val in signal_series:
        if val == 1 and prev != 1:
            filtered.append(1)
            prev = 1
        elif val == -1 and prev != -1:
            filtered.append(-1)
            prev = -1
        else:
            filtered.append(0)
    return pd.Series(filtered, index=signal_series.index)

# -----------------------------
# 4. Generate Best Indicator Signals
# -----------------------------
best_indicator_signal = pd.DataFrame(index=cds_data.index)
best_indicator_metadata = {}

for index in cds_data.columns:
    best_row = component_pnl_df[component_pnl_df['CDS Index'] == index].iloc[0]
    best_type = best_row['Signal Type']
    params = best_row['Parameters']
    price = cds_data[index].fillna(method='ffill')

    if best_type == 'SMA':
        sma_short = SMAIndicator(price, params['short_window']).sma_indicator()
        sma_long = SMAIndicator(price, params['long_window']).sma_indicator()
        signal = np.where(sma_short > sma_long, 1, -1)
    elif best_type == 'MACD':
        macd_signal = MACD(price).macd_diff()
        signal = np.where(macd_signal > 0, 1, -1)
    elif best_type == 'RSI':
        rsi_val = RSIIndicator(price, params['rsi_period']).rsi()
        signal = np.where(rsi_val < params['rsi_buy'], 1,
                          np.where(rsi_val > params['rsi_sell'], -1, 0))

    filtered_signal = filter_signals(pd.Series(signal, index=price.index))
    best_indicator_signal[index] = filtered_signal
    best_indicator_metadata[index] = {
        "Best Indicator": best_type,
        "Params": params,
        "Total PnL ($)": best_row["Total PnL ($)"],
        "Sharpe": best_row["Sharpe"]
    }

# -----------------------------
# 5. Create CDS Positions (1=Long, 0=Out)
# -----------------------------
cds_positions = pd.DataFrame(index=cds_data.index)

for index in cds_data.columns:
    signal = best_indicator_signal[index]
    position = []
    current = 0
    for s in signal:
        if s == 1:
            current = 1
        elif s == -1:
            current = 0
        position.append(current)
    cds_positions[index] = position

# -----------------------------
# 6. Backtest CDS PnL
# -----------------------------
cds_pnl_df = pd.DataFrame(index=cds_data.index)
cumulative_pnl_df = pd.DataFrame(index=cds_data.index)

for index in cds_data.columns:
    spread_change = cds_data[index].diff().shift(-1)
    position = cds_positions[index]
    daily_pnl_bps = spread_change * position
    daily_pnl_usd = daily_pnl_bps * cs01_exposure / 10000
    cds_pnl_df[f'{index}_PnL($)'] = daily_pnl_usd
    cumulative_pnl_df[f'{index}_Cumulative_PnL($)'] = daily_pnl_usd.cumsum()

# -----------------------------
# 7. PCA on Bond Portfolio
# -----------------------------
bond_zspread_std = (bond_zspread - bond_zspread.mean()) / bond_zspread.std()
pca = PCA(n_components=5)
pca_factors = pd.DataFrame(pca.fit_transform(bond_zspread_std), index=bond_zspread.index)

# -----------------------------
# 8. Simulate Bond Portfolio PnL
# -----------------------------
bond_daily_changes = bond_zspread.diff().shift(-1)
portfolio_return_bps = (bond_daily_changes * bond_cs01.values).sum(axis=1) / bond_cs01.sum()

# Hedge with CDS
total_cds_pnl = cds_pnl_df.sum(axis=1)
hedged_pnl = portfolio_return_bps * initial_capital / 10000 - total_cds_pnl

hedging_results = pd.DataFrame({
    "Portfolio_PnL($)": portfolio_return_bps * initial_capital / 10000,
    "CDS_Hedge_PnL($)": total_cds_pnl,
    "Net_Hedged_PnL($)": hedged_pnl
}, index=cds_data.index)

# -----------------------------
# 9. Summary Table
# -----------------------------
summary = pd.DataFrame([
    {
        "CDS Index": idx,
        "Best Indicator": meta["Best Indicator"],
        "Params": meta["Params"],
        "Total PnL ($)": round(meta["Total PnL ($)"], 2),
        "Sharpe": round(meta["Sharpe"], 2)
    }
    for idx, meta in best_indicator_metadata.items()
])

print("\n📊 Strategy Summary Table:")
print(summary)

# -----------------------------
# 10. Optional: Plot PnL
# -----------------------------
plt.figure(figsize=(12, 6))
for col in cumulative_pnl_df.columns:
    plt.plot(cumulative_pnl_df.index, cumulative_pnl_df[col], label=col)
plt.title("Cumulative PnL from Best Signal per Index")
plt.legend()
plt.grid(True)
plt.tight_layout()
plt.show()

# -----------------------------
# 12. Subplots for All Credit Indexes
# -----------------------------
import math

n_indexes = len(cds_data.columns)
n_cols = 2
n_rows = math.ceil(n_indexes / n_cols)

fig, axes = plt.subplots(n_rows, n_cols, figsize=(14, 4 * n_rows), sharex=True)
axes = axes.flatten()

for i, index in enumerate(cds_data.columns):
    ax = axes[i]
    price = cds_data[index]
    signal = best_indicator_signal[index]
    buy_signals = signal[signal == 1]
    sell_signals = signal[signal == -1]

    ax.plot(price, label='Spread', color='black', lw=1.5)
    ax.scatter(buy_signals.index, price.loc[buy_signals.index], marker='^', color='green', label='Buy', zorder=5)
    ax.scatter(sell_signals.index, price.loc[sell_signals.index], marker='v', color='red', label='Sell', zorder=5)

    meta = best_indicator_metadata[index]
    ax.set_title(f"{index} | {meta['Best Indicator']} | PnL: ${meta['Total PnL ($)']}")
    ax.grid(True)
    ax.legend()

# Hide empty subplots
for j in range(i + 1, len(axes)):
    fig.delaxes(axes[j])

plt.suptitle("📈 Buy/Sell Signals for Best Strategy per Credit Index", fontsize=16, y=1.02)
plt.tight_layout()
plt.show()