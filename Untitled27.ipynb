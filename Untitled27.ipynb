import pandas as pd
import numpy as np
import matplotlib.pyplot as plt
import optuna
from ta.trend import SMAIndicator, MACD
from ta.momentum import RSIIndicator
from sklearn.decomposition import PCA
from sklearn.preprocessing import StandardScaler

# -------------------------------
# LOAD YOUR DATA HERE
# -------------------------------

cds_data = pd.read_csv("cds_data.csv", index_col="DATE", parse_dates=True)
bond_zspread = pd.read_csv("zspread_data.csv", index_col=0, parse_dates=True)
cs01_data = pd.read_csv("cs01_data.csv", index_col=0, squeeze=True)

# -------------------------------
# PCA ON BOND Z-SPREADS
# -------------------------------

zspread_scaled = StandardScaler().fit_transform(bond_zspread.fillna(method='ffill').fillna(0))
pca = PCA(n_components=5)
pca_components = pca.fit_transform(zspread_scaled)
pca_df = pd.DataFrame(pca_components, index=bond_zspread.index, columns=[f'factor_{i}' for i in range(5)])
pca_loadings = pd.DataFrame(pca.components_.T, index=bond_zspread.columns, columns=pca_df.columns)

# -------------------------------
# SIGNAL GENERATION FUNCTION
# -------------------------------

def generate_signals(price, short_window, long_window, rsi_period, rsi_buy, rsi_sell):
    sma_short = SMAIndicator(price, short_window).sma_indicator()
    sma_long = SMAIndicator(price, long_window).sma_indicator()
    macd_diff = MACD(price).macd_diff()
    rsi = RSIIndicator(price, rsi_period).rsi()

    signals = pd.DataFrame(index=price.index)
    signals['sma'] = np.where(sma_short > sma_long, 1, -1)
    signals['macd'] = np.where(macd_diff > 0, 1, -1)
    signals['rsi'] = np.where(rsi < rsi_buy, 1, np.where(rsi > rsi_sell, -1, 0))
    total = signals.sum(axis=1)
    combined_signal = np.where(total > 0, 1, np.where(total < 0, -1, 0))
    return pd.Series(combined_signal, index=price.index), signals

# -------------------------------
# SIGNAL OPTIMIZATION OBJECTIVE
# -------------------------------

def objective(trial, price):
    short_w = trial.suggest_int('short_window', 5, 20)
    long_w = trial.suggest_int('long_window', 21, 60)
    rsi_p = trial.suggest_int('rsi_period', 5, 20)
    rsi_b = trial.suggest_int('rsi_buy', 20, 40)
    rsi_s = trial.suggest_int('rsi_sell', 60, 80)
    
    signal, _ = generate_signals(price, short_w, long_w, rsi_p, rsi_b, rsi_s)
    change = price.diff().shift(-1)
    strat_return = (change * signal).dropna()
    if strat_return.std() == 0:
        return 0
    return -strat_return.mean() / strat_return.std()

# -------------------------------
# OPTIMIZE SIGNALS FOR EACH INDEX
# -------------------------------

optimized_signals = pd.DataFrame(index=cds_data.index)
best_params = {}
individual_performance = {}

for col in cds_data.columns:
    price_series = cds_data[col].fillna(method='ffill')
    study = optuna.create_study(direction='minimize')
    study.optimize(lambda trial: objective(trial, price_series), n_trials=30)
    
    params = study.best_params
    best_params[col] = params
    full_signal, parts = generate_signals(price_series, **params)
    optimized_signals[col] = full_signal

    # Compare signal components
    perf = {}
    for key in ['sma', 'macd', 'rsi']:
        temp = parts[key]
        strat = price_series.diff().shift(-1) * temp
        strat = strat.dropna()
        perf[key] = {
            'mean': strat.mean(),
            'vol': strat.std(),
            'sharpe': strat.mean() / strat.std() if strat.std() != 0 else 0
        }
    individual_performance[col] = perf

# -------------------------------
# FILTER ENTRY/EXIT SIGNALS
# -------------------------------

def get_trade_signals(signal_series):
    filtered = signal_series.copy()
    filtered[:] = 0
    diff = signal_series.diff()
    filtered[diff == 2] = 1
    filtered[diff == 1] = 1
    filtered[diff == -2] = -1
    filtered[diff == -1] = -1
    return filtered

filtered_signals = {col: get_trade_signals(optimized_signals[col]) for col in optimized_signals.columns}

# -------------------------------
# PLOT SIGNALS FOR EACH INDEX
# -------------------------------

n = len(cds_data.columns)
ncols = 2
nrows = (n + 1) // ncols
fig, axs = plt.subplots(nrows, ncols, figsize=(14, 4 * nrows), squeeze=False)
axs = axs.flatten()

for i, col in enumerate(cds_data.columns):
    price = cds_data[col]
    signal = filtered_signals[col]
    ax = axs[i]
    ax.plot(price.index, price.values, label='Price', color='blue')
    ax.scatter(price.index[signal == 1], price[signal == 1], marker='^', color='green', label='Buy', s=40)
    ax.scatter(price.index[signal == -1], price[signal == -1], marker='v', color='red', label='Sell', s=40)
    ax.set_title(f"{col} Signals")
    ax.legend()
    ax.grid(True)

for j in range(i + 1, len(axs)):
    fig.delaxes(axs[j])

plt.tight_layout()
plt.show()

# -------------------------------
# DISPLAY COMPONENT PERFORMANCE
# -------------------------------

performance_df = pd.DataFrame(individual_performance).T
print("Performance of individual signals:")
print(performance_df)