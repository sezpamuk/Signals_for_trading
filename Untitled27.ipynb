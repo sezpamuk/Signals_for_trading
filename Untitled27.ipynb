import numpy as np
import pandas as pd
import random # Still used for initial capital, but not for action selection
from collections import deque # Not strictly needed for rule-based, but kept for consistency
import matplotlib.pyplot as plt
import matplotlib.dates as mdates
import pandas_ta as ta # Import pandas_ta

# --- 1. Rule-Based Trading Environment / Backtester ---
class CDSRuleBasedBacktester:
    def __init__(self, data, target_index_col, initial_capital=100000, commission_rate=0.0001, spread_cost=0.0005):
        """
        Initializes the CDS Rule-Based Backtester.

        Args:
            data (pd.DataFrame): Historical data for CDS indexes with 'Date' as index
                                 and columns like 'CDX_IG', 'CDX_EM', etc. (spreads in bps).
            target_index_col (str): The name of the column in 'data' that represents the
                                    CDS index to be traded (e.g., 'CDX_IG').
            initial_capital (float): Starting capital for the agent.
            commission_rate (float): Commission per trade as a percentage of trade value.
            spread_cost (float): Represents bid-ask spread or slippage as a percentage.
        """
        if target_index_col not in data.columns:
            raise ValueError(f"'{target_index_col}' not found in data columns. Available: {data.columns.tolist()}")

        self.data = data.copy() # Work on a copy
        self.target_index_col = target_index_col
        self.initial_capital = initial_capital
        self.commission_rate = commission_rate
        self.spread_cost = spread_cost
        
        # Calculate MAX_SPREAD for the whole dataset for normalization
        self.max_spread = self.data[self.target_index_col].max()
        
        # Define the "tradable price" for the agent: higher when spreads are tighter.
        self.data['Tradable_Price'] = self.max_spread - self.data[self.target_index_col] + 1.0 
        
        self.price_history = self.data['Tradable_Price'].values
        self.spread_history = self.data[self.target_index_col].values # Keep original spreads for state features

    def _calculate_indicators(self, rsi_length, macd_fast, macd_slow, macd_signal):
        """Calculates technical indicators on the 'Tradable_Price' series."""
        # Use the 'Tradable_Price' series for indicator calculations
        tradable_price_series = self.data['Tradable_Price']

        # RSI
        self.data.ta.rsi(close=tradable_price_series, length=rsi_length, append=True)
        
        # MACD
        self.data.ta.macd(close=tradable_price_series, fast=macd_fast, slow=macd_slow, signal=macd_signal, append=True)

        # Rename columns for consistent access
        self.data['RSI'] = self.data[f'RSI_{rsi_length}']
        self.data['MACD'] = self.data[f'MACD_{macd_fast}_{macd_slow}_{macd_signal}']
        self.data['MACD_Signal'] = self.data[f'MACDs_{macd_fast}_{macd_slow}_{macd_signal}']
        self.data['MACD_Hist'] = self.data[f'MACDh_{macd_fast}_{macd_slow}_{macd_signal}']

        # Return Horizons (on the raw spread data, as these are fundamental market movements)
        spread_series = self.data[self.target_index_col]
        self.data['Return_1D'] = spread_series.pct_change(1)
        self.data['Return_1W'] = spread_series.pct_change(5) 
        self.data['Return_2W'] = spread_series.pct_change(10) 
        self.data['Return_1M'] = spread_series.pct_change(20) 

        # Fill NaNs created by technical indicators and returns (at the start of series)
        self.data.fillna(method='bfill', inplace=True) 
        self.data.fillna(0, inplace=True) 

    def run_backtest(self, params):
        """
        Runs a backtest with the given strategy parameters.

        Args:
            params (dict): Dictionary of parameters including:
                           'rsi_length', 'macd_fast', 'macd_slow', 'macd_signal',
                           'window_size' (for state representation, though less critical for rules here)
        Returns:
            dict: Backtest results including final portfolio value and history.
        """
        self.capital = self.initial_capital
        self.shares = 0
        self.position = 0 # 0: flat, 1: long
        self.history = [] # To store trade actions and portfolio value
        
        # Calculate indicators for this specific set of parameters
        self._calculate_indicators(
            params['rsi_length'], 
            params['macd_fast'], 
            params['macd_slow'], 
            params['macd_signal']
        )

        # Determine the start step after all indicators have valid data
        # Max lookback needed for any indicator or return calculation
        start_step_offset = max(params['rsi_length'], params['macd_slow'], 20) # 20 for 1-month return

        for i in range(start_step_offset, len(self.data)):
            current_tradable_price = self.price_history[i]
            current_spread = self.spread_history[i]

            # Get current indicator values
            current_rsi = self.data['RSI'].iloc[i]
            current_macd = self.data['MACD'].iloc[i]
            current_macd_signal = self.data['MACD_Signal'].iloc[i]

            action = 0 # Default to Hold

            # Check for Buy Signal
            if self.position == 0: # Only buy if currently flat
                # RSI crosses above 30 (or is below 30 and moving up)
                rsi_buy_condition = current_rsi > 30 and self.data['RSI'].iloc[i-1] <= 30
                # MACD crosses above Signal line
                macd_buy_condition = current_macd > current_macd_signal and self.data['MACD'].iloc[i-1] <= self.data['MACD_Signal'].iloc[i-1]
                
                if rsi_buy_condition and macd_buy_condition:
                    action = 1 # Buy
                    buy_amount = self.capital / (current_tradable_price * (1 + self.commission_rate + self.spread_cost))
                    if buy_amount * current_tradable_price > 0:
                        self.shares += buy_amount
                        self.capital -= buy_amount * current_tradable_price * (1 + self.commission_rate + self.spread_cost)
                        self.position = 1
                        # Store entry price for PnL calculation on exit
                        self.entry_price = current_tradable_price
                        self.entry_shares = buy_amount

            # Check for Sell Signal
            elif self.position == 1: # Only sell if currently long
                # RSI crosses below 70 (or is above 70 and moving down)
                rsi_sell_condition = current_rsi < 70 and self.data['RSI'].iloc[i-1] >= 70
                # MACD crosses below Signal line
                macd_sell_condition = current_macd < current_macd_signal and self.data['MACD'].iloc[i-1] >= self.data['MACD_Signal'].iloc[i-1]

                if rsi_sell_condition and macd_sell_condition:
                    action = 2 # Sell
                    sale_value = self.shares * current_tradable_price * (1 - self.commission_rate - self.spread_cost)
                    
                    # Calculate PnL for this specific trade
                    trade_pnl = (current_tradable_price - self.entry_price) * self.entry_shares
                    
                    self.capital += sale_value
                    self.shares = 0
                    self.position = 0
                    self.entry_price = None # Reset entry price

            # Record history
            current_portfolio_value = self.capital + self.shares * current_tradable_price
            self.history.append({
                'date': self.data.index[i],
                'capital': self.capital,
                'shares': self.shares,
                'position': self.position,
                'spread': current_spread,
                'tradable_price': current_tradable_price,
                'action': action,
                'portfolio_value': current_portfolio_value
            })
        
        # Final liquidation if position is still open at the end of data
        if self.shares > 0:
            final_price = self.price_history[-1]
            final_sale_value = self.shares * final_price * (1 - self.commission_rate - self.spread_cost)
            final_trade_pnl = (final_price - self.entry_price) * self.entry_shares
            self.capital += final_sale_value
            self.shares = 0
            self.position = 0
            self.history.append({
                'date': self.data.index[-1],
                'capital': self.capital,
                'shares': self.shares,
                'position': self.position,
                'spread': self.spread_history[-1],
                'tradable_price': final_price,
                'action': 2, # Forced sell
                'portfolio_value': self.capital # Final capital
            })

        final_portfolio_value = self.history[-1]['portfolio_value'] if self.history else self.initial_capital
        
        return {
            'final_portfolio_value': final_portfolio_value,
            'history': self.history,
            'params': params
        }

# --- 2. Optimization (Grid Search) ---
def optimize_strategy(backtester, df_data, target_index_col, param_grid):
    """
    Performs a grid search to find the best strategy parameters.

    Args:
        backtester (CDSRuleBasedBacktester): An instance of the backtester.
        df_data (pd.DataFrame): The full historical data.
        target_index_col (str): The CDS index column to trade.
        param_grid (dict): Dictionary where keys are parameter names and values are lists of values to try.

    Returns:
        dict: Best parameters found and the corresponding backtest results.
    """
    best_performance = -np.inf
    best_params = None
    best_results = None

    # Generate all combinations of parameters
    from itertools import product
    
    # Extract parameter names and their lists
    param_names = list(param_grid.keys())
    param_values = list(param_grid.values())
    
    all_param_combinations = list(product(*param_values))

    print(f"Starting grid search with {len(all_param_combinations)} combinations...")

    for i, combo in enumerate(all_param_combinations):
        current_params = dict(zip(param_names, combo))
        
        # Create a fresh backtester for each combination to avoid state leakage
        current_backtester = CDSRuleBasedBacktester(df_data, target_index_col, 
                                                    initial_capital=backtester.initial_capital,
                                                    commission_rate=backtester.commission_rate,
                                                    spread_cost=backtester.spread_cost)
        
        results = current_backtester.run_backtest(current_params)
        
        current_performance = results['final_portfolio_value']
        
        print(f"  Combo {i+1}/{len(all_param_combinations)}: Params={current_params}, Value=${current_performance:,.2f}")

        if current_performance > best_performance:
            best_performance = current_performance
            best_params = current_params
            best_results = results
    
    print("\nOptimization Complete!")
    print(f"Best Parameters: {best_params}")
    print(f"Best Final Portfolio Value: ${best_performance:,.2f}")
    
    return best_params, best_results

# --- 3. Visualization Functions (Adapted for Rule-Based) ---

def plot_optimization_results(best_results, initial_capital, index_name):
    fig, (ax1, ax2) = plt.subplots(2, 1, figsize=(18, 12), sharex=True, gridspec_kw={'height_ratios': [3, 1]})

    # --- Plot 1: Spread Chart with Buy/Sell Signals ---
    # Extract relevant data from the best_results history
    dates_for_plot = [pd.to_datetime(h['date']) for h in best_results['history']]
    spreads_for_plot = [h['spread'] for h in best_results['history']]

    ax1.plot(dates_for_plot, spreads_for_plot, label=f'{index_name} Spread (bps)', color='skyblue', linewidth=1.5)
    
    ax1.invert_yaxis() # Invert Y-axis for spreads to conceptually align with "price" for long positions
    
    buy_signals_x, buy_signals_y = [], []
    sell_signals_x, sell_signals_y = [], []
    
    # Iterate through the backtest history to plot signals
    for i, record in enumerate(best_results['history']):
        if record['action'] == 1: # Buy signal
             buy_signals_x.append(record['date'])
             buy_signals_y.append(record['spread'])
        elif record['action'] == 2: # Sell signal
             sell_signals_x.append(record['date'])
             sell_signals_y.append(record['spread'])

    ax1.scatter(buy_signals_x, buy_signals_y, marker='^', color='green', label='Buy Signal (Spreads Tighten)', alpha=0.9, s=150, zorder=5)
    ax1.scatter(sell_signals_x, sell_signals_y, marker='v', color='red', label='Sell Signal (Spreads Widen)', alpha=0.9, s=150, zorder=5)
    
    ax1.set_title(f'{index_name} Spread with Trading Signals (Inverted Y-axis) - Best Strategy', fontsize=16)
    ax1.set_ylabel('CDS Spread (bps)', fontsize=12)
    ax1.grid(True, linestyle='--', alpha=0.7)
    ax1.legend()
    ax1.xaxis.set_major_formatter(mdates.DateFormatter('%Y-%m-%d'))
    ax1.xaxis.set_major_locator(mdates.AutoLocator())
    fig.autofmt_xdate()

    # --- Plot 2: Portfolio Value ---
    portfolio_values = [h['portfolio_value'] for h in best_results['history']]
    
    ax2.plot(dates_for_plot, portfolio_values, label='Portfolio Value', color='blue', linewidth=2)
    ax2.axhline(y=initial_capital, color='r', linestyle='--', label='Initial Capital')
    ax2.set_title('Portfolio Value Over Time - Best Strategy', fontsize=16)
    ax2.set_xlabel('Date', fontsize=12)
    ax2.set_ylabel('Portfolio Value', fontsize=12)
    ax2.grid(True, linestyle='--', alpha=0.7)
    ax2.legend()
    
    plt.tight_layout()
    plt.show()


# --- Main Execution ---

# 4. Load your CDS Data
csv_file_path = 'cds_data.csv' 

try:
    df_cds = pd.read_csv(csv_file_path, index_col='Date', parse_dates=True)
    df_cds.columns = df_cds.columns.str.upper() 
    print(f"Successfully loaded data from {csv_file_path}. Columns: {df_cds.columns.tolist()}")

    TARGET_CDS_INDEX = 'CDX_IG' # <--- CHANGE THIS to the index you want to trade!

    if TARGET_CDS_INDEX not in df_cds.columns:
        raise KeyError(f"The specified TARGET_CDS_INDEX '{TARGET_CDS_INDEX}' is not in the CSV file.")
    
except FileNotFoundError:
    print(f"Error: The file '{csv_file_path}' was not found.")
    print("Please ensure your CSV file is in the same directory as this script, or provide the full path.")
    print("Example CSV format:")
    print("Date,CDX_IG,CDX_EM,ITRX_Main,ITRX_XOVER")
    print("2020-01-01,100.00,200.00,50.00,300.00")
    print("... (add more data)")
    exit() 
except KeyError as e:
    print(f"Error: Missing expected column in CSV: {e}. Please check your column names.")
    print(f"Expected columns: Date, CDX_IG, CDX_EM, ITRX_Main, ITRX_XOVER (case-insensitive for access).")
    exit()

# 5. Define Parameter Grid for Optimization
# These ranges are examples, adjust based on your data and domain knowledge
param_grid = {
    'window_size': [10, 20], # For state representation, though not directly used in rules here
    'rsi_length': [14, 21],
    'macd_fast': [10, 12],
    'macd_slow': [20, 26],
    'macd_signal': [7, 9]
}

# 6. Initialize Backtester (used to pass initial settings to optimization)
# This instance won't run a backtest itself, but provides initial_capital etc.
initial_backtester = CDSRuleBasedBacktester(df_cds, TARGET_CDS_INDEX)

# 7. Run Optimization
best_params, best_results = optimize_strategy(initial_backtester, df_cds, TARGET_CDS_INDEX, param_grid)

# 8. Visualize the Best Strategy's Results
if best_results:
    plot_optimization_results(best_results, initial_backtester.initial_capital, TARGET_CDS_INDEX)
else:
    print("No successful backtest results found for plotting.")

