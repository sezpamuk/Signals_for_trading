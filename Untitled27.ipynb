# Function to find best hedge for each bond
def find_best_hedge(bond_ts, cds_ts, bond_id):
    bond_spreads = bond_ts[bond_id]
    correlations = {}
    hedge_ratios = {}
    r_squared = {}
    
    for cds_idx in cds_ts.columns:
        # Calculate correlation
        corr = np.corrcoef(bond_spreads, cds_ts[cds_idx])[0,1]
        correlations[cds_idx] = corr
        
        # Calculate hedge ratio via regression
        X = cds_ts[cds_idx].values.reshape(-1,1)
        y = bond_spreads.values
        model = LinearRegression().fit(X, y)
        hedge_ratios[cds_idx] = model.coef_[0]
        r_squared[cds_idx] = model.score(X, y)
    
    best_hedge = max(correlations, key=correlations.get)
    return {
        'bond_id': bond_id,
        'best_hedge': best_hedge,
        'correlation': correlations[best_hedge],
        'hedge_ratio': hedge_ratios[best_hedge],
        'r_squared': r_squared[best_hedge],
        'all_correlations': correlations,
        'all_rsquared': r_squared
    }

# Analyze first 10 bonds for demonstration
hedge_analysis = [find_best_hedge(bond_ts, cds_ts, bond_id) for bond_id in bond_ts.columns[:10]]

# Display results
for analysis in hedge_analysis[:3]:  # Show first 3 for brevity
    print(f"Bond: {analysis['bond_id']}")
    print(f"Best Hedge: {analysis['best_hedge']} (Correlation: {analysis['correlation']:.2f}, R²: {analysis['r_squared']:.2f})")
    print(f"Hedge Ratio: {analysis['hedge_ratio']:.4f}")
    print("---")


import pandas as pd
import numpy as np
from sklearn.linear_model import LinearRegression

def get_all_hedge_relationships(bond_ts, cds_ts, bond_id):
    """
    Calculate hedge relationships between a bond and all CDS indexes
    Returns a list of dictionaries with metrics for each CDS index
    """
    bond_spreads = bond_ts[bond_id]
    records = []
    
    for cds_idx in cds_ts.columns:
        # Calculate correlation
        corr = np.corrcoef(bond_spreads, cds_ts[cds_idx])[0, 1]
        
        # Calculate hedge ratio via regression
        X = cds_ts[cds_idx].values.reshape(-1, 1)
        y = bond_spreads.values
        model = LinearRegression().fit(X, y)
        hedge_ratio = model.coef_[0]
        r_squared = model.score(X, y)
        intercept = model.intercept_
        
        # Calculate hedge effectiveness metrics
        residual = y - model.predict(X)
        residual_std = np.std(residual)
        hedge_effectiveness = 1 - (residual_std / np.std(y))
        
        records.append({
            'bond_id': bond_id,
            'cds_index': cds_idx,
            'correlation': corr,
            'hedge_ratio': hedge_ratio,
            'r_squared': r_squared,
            'intercept': intercept,
            'residual_std': residual_std,
            'hedge_effectiveness': hedge_effectiveness,
            'is_hedgeable': r_squared > 0.5  # Custom threshold
        })
    
    return records

# Generate comprehensive results DataFrame
all_results = []

# Process all bonds - use bond_ts.columns for all bonds
for bond_id in bond_ts.columns:
    results = get_all_hedge_relationships(bond_ts, cds_ts, bond_id)
    all_results.extend(results)

# Create DataFrame with all relationships
relationships_df = pd.DataFrame(all_results)

# Create best hedge summary DataFrame
best_hedge_df = relationships_df.sort_values('r_squared', ascending=False)\
                                .groupby('bond_id').first().reset_index()

# Add best hedge details to bond data
bond_data_full = bond_data.merge(
    best_hedge_df[['bond_id', 'cds_index', 'hedge_ratio', 'r_squared', 'is_hedgeable']],
    on='bond_id',
    how='left'
)

# Rename columns for clarity
bond_data_full = bond_data_full.rename(columns={
    'cds_index': 'best_hedge',
    'hedge_ratio': 'best_hedge_ratio',
    'r_squared': 'best_hedge_r2'
})

# Save results to CSV
relationships_df.to_csv('all_hedge_relationships.csv', index=False)
bond_data_full.to_csv('bond_data_with_best_hedge.csv', index=False)

print("All relationships DataFrame:")
print(relationships_df.head())
print("\nBest hedge summary:")
print(best_hedge_df.head())
print("\nBond data with best hedge:")
print(bond_data_full.head())

import numpy as np
import pandas as pd
from sklearn.decomposition import PCA
from scipy.optimize import minimize

# Generate synthetic bond spread changes (1000 bonds, 500 days)
np.random.seed(42)
n_bonds = 1000
n_days = 500
bond_returns = pd.DataFrame(
    np.random.normal(0, 0.1, (n_days, n_bonds)),
    columns=[f'BOND_{i}' for i in range(n_bonds)]
)

# Add sector/region factors to create correlation structure
sectors = ['Financial', 'Industrial', 'Tech', 'Energy', 'Utility']
regions = ['NA', 'EU', 'APAC', 'EM']
for i, bond in enumerate(bond_returns.columns):
    sector_factor = np.random.choice(sectors)
    region_factor = np.random.choice(regions)
    sector_ret = np.random.normal(0, 0.05, n_days)
    region_ret = np.random.normal(0, 0.03, n_days)
    bond_returns[bond] += sector_ret + region_ret

# Generate synthetic CDS index returns (4 indexes)
cds_returns = pd.DataFrame({
    'CDX_IG': np.random.normal(0, 0.08, n_days),
    'CDX_HY': np.random.normal(0, 0.12, n_days),
    'ITRAXX_MAIN': np.random.normal(0, 0.07, n_days),
    'ITRAXX_XOVER': np.random.normal(0, 0.15, n_days)
})

# Add common market factor to all instruments
market_factor = np.random.normal(0, 0.05, n_days)
bond_returns = bond_returns + market_factor[:, np.newaxis]
cds_returns = cds_returns + market_factor[:, np.newaxis]

# Portfolio Cs01 values (dollar sensitivity per bp)
cs01_values = pd.Series(
    np.random.lognormal(5, 0.3, n_bonds),
    index=bond_returns.columns
)

### Step 1: Perform PCA on bond spread changes
pca = PCA(n_components=5)
pca.fit(bond_returns)

print(f"Explained variance: {pca.explained_variance_ratio_}")
print(f"Cumulative explained variance: {np.cumsum(pca.explained_variance_ratio_)}")

# Transform bond returns to factor space
bond_factor_exposures = pca.transform(bond_returns)  # Days × factors

### Step 2: Calculate portfolio factor exposures
# Weighted average of factor exposures based on Cs01
portfolio_factor_exposure = np.zeros(5)
for i, bond in enumerate(bond_returns.columns):
    # The factor exposure per $1 of Cs01
    exposure_per_dollar = pca.components_[:, i] / cs01_values[bond]
    portfolio_factor_exposure += exposure_per_dollar * cs01_values[bond]

# Normalize by total portfolio Cs01
total_cs01 = cs01_values.sum()
portfolio_factor_exposure /= total_cs01

print("\nPortfolio factor exposures:")
print(portfolio_factor_exposure)

### Step 3: Map CDS indexes to PCA factors
cds_factor_exposures = np.zeros((4, 5))  # Indexes × factors

for i, idx in enumerate(cds_returns.columns):
    # Regress CDS returns on PCA factors
    cds_ret = cds_returns[idx].values
    factor_exposure = np.linalg.lstsq(bond_factor_exposures, cds_ret, rcond=None)[0]
    cds_factor_exposures[i] = factor_exposure

print("\nCDS index factor exposures:")
print(pd.DataFrame(cds_factor_exposures, index=cds_returns.columns))

### Step 4: Optimize hedge ratios
def hedge_objective(hedge_weights, portfolio_exposure, cds_exposures):
    """Minimize residual factor exposure after hedging"""
    hedged_exposure = portfolio_exposure - np.dot(hedge_weights, cds_exposures)
    return np.sum(hedged_exposure**2)  # Sum of squared residuals

def hedge_constraint(hedge_weights):
    """Maximum total hedge capacity constraint"""
    return 1000000 - np.sum(np.abs(hedge_weights))  # $1MM cap

# Initial guess (equal weighting)
x0 = np.zeros(len(cds_returns.columns))

# Bounds: allow both long and short positions
bounds = [(-100000, 100000) for _ in range(len(cds_returns.columns))]

# Constraints
constraints = [{'type': 'ineq', 'fun': hedge_constraint}]

# Solve optimization
result = minimize(
    hedge_objective,
    x0,
    args=(portfolio_factor_exposure, cds_factor_exposures),
    bounds=bounds,
    constraints=constraints,
    method='SLSQP'
)

optimal_hedge_weights = result.x
print("\nOptimal hedge notionals:")
for idx, weight in zip(cds_returns.columns, optimal_hedge_weights):
    print(f"{idx}: ${weight:,.2f}")

### Step 5: Risk monitoring with hedge triggers
def calculate_residual_risk(bond_rets, cds_rets, hedge_weights, cs01_values):
    """Calculate daily residual risk after hedging"""
    # Portfolio dollar returns
    portfolio_dollar_returns = bond_rets.dot(cs01_values)
    
    # Hedge portfolio dollar returns
    hedge_dollar_returns = cds_rets.dot(hedge_weights)
    
    # Residual risk
    residual = portfolio_dollar_returns - hedge_dollar_returns
    return residual

# Calculate historical residual risk
residual_risk = calculate_residual_risk(
    bond_returns,
    cds_returns,
    optimal_hedge_weights,
    cs01_values
)

# Set risk thresholds (using historical standard deviation)
risk_std = residual_risk.std()
upper_threshold = 2 * risk_std
lower_threshold = -2 * risk_std
rebalance_threshold = 3 * risk_std

def monitor_risk(current_residual, upper_thresh, lower_thresh, rebalance_thresh):
    """Determine hedge adjustment based on current risk"""
    if current_residual > upper_thresh:
        return "SELL hedge"
    elif current_residual < lower_thresh:
        return "BUY hedge"
    elif abs(current_residual) > rebalance_thresh:
        return "REBALANCE entire hedge"
    else:
        return "NO ACTION"

# Example monitoring
current_residual = residual_risk.iloc[-1]  # Most recent residual
action = monitor_risk(current_residual, upper_threshold, lower_threshold, rebalance_threshold)
print(f"\nCurrent residual risk: ${current_residual:,.2f}")
print(f"Recommended action: {action}")

### Step 6: Factor Exposure Dashboard (Optional)
def create_exposure_dashboard(portfolio_exposure, cds_exposures, hedge_weights):
    """Create factor exposure visualization"""
    import matplotlib.pyplot as plt
    
    # Before and after hedge exposures
    hedged_exposure = portfolio_exposure - np.dot(hedge_weights, cds_exposures)
    
    # Plot
    fig, ax = plt.subplots(figsize=(10, 6))
    width = 0.35
    x = np.arange(5)
    
    ax.bar(x - width/2, portfolio_exposure, width, label='Before Hedge')
    ax.bar(x + width/2, hedged_exposure, width, label='After Hedge')
    
    ax.set_ylabel('Factor Exposure')
    ax.set_title('Portfolio Factor Exposure')
    ax.set_xticks(x)
    ax.set_xticklabels([f'Factor {i+1}' for i in range(5)])
    ax.legend()
    ax.axhline(0, color='black', linewidth=0.8)
    
    plt.show()
    return fig

# Generate exposure dashboard
create_exposure_dashboard(portfolio_factor_exposure, cds_factor_exposures, optimal_hedge_weights)
