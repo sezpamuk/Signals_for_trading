# Function to find best hedge for each bond
def find_best_hedge(bond_ts, cds_ts, bond_id):
    bond_spreads = bond_ts[bond_id]
    correlations = {}
    hedge_ratios = {}
    r_squared = {}
    
    for cds_idx in cds_ts.columns:
        # Calculate correlation
        corr = np.corrcoef(bond_spreads, cds_ts[cds_idx])[0,1]
        correlations[cds_idx] = corr
        
        # Calculate hedge ratio via regression
        X = cds_ts[cds_idx].values.reshape(-1,1)
        y = bond_spreads.values
        model = LinearRegression().fit(X, y)
        hedge_ratios[cds_idx] = model.coef_[0]
        r_squared[cds_idx] = model.score(X, y)
    
    best_hedge = max(correlations, key=correlations.get)
    return {
        'bond_id': bond_id,
        'best_hedge': best_hedge,
        'correlation': correlations[best_hedge],
        'hedge_ratio': hedge_ratios[best_hedge],
        'r_squared': r_squared[best_hedge],
        'all_correlations': correlations,
        'all_rsquared': r_squared
    }

# Analyze first 10 bonds for demonstration
hedge_analysis = [find_best_hedge(bond_ts, cds_ts, bond_id) for bond_id in bond_ts.columns[:10]]

# Display results
for analysis in hedge_analysis[:3]:  # Show first 3 for brevity
    print(f"Bond: {analysis['bond_id']}")
    print(f"Best Hedge: {analysis['best_hedge']} (Correlation: {analysis['correlation']:.2f}, R²: {analysis['r_squared']:.2f})")
    print(f"Hedge Ratio: {analysis['hedge_ratio']:.4f}")
    print("---")
