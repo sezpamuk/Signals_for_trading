import pandas as pd
import numpy as np
import matplotlib.pyplot as plt
from ta.trend import SMAIndicator, MACD
from ta.momentum import RSIIndicator
import optuna

# ------------------------------------
# Load Data (replace this with your CSV)
# ------------------------------------
# cds_data = pd.read_csv("cds_data.csv", index_col="DATE", parse_dates=True)
dates = pd.date_range("2020-01-01", "2022-12-31", freq='B')
cds_data = pd.DataFrame({
    'CDX_IG': np.cumsum(np.random.normal(0, 1, len(dates))),
    'CDX_EM': np.cumsum(np.random.normal(0, 1.2, len(dates))),
    'ITRX_MAIN': np.cumsum(np.random.normal(0, 0.8, len(dates))),
    'ITRX_XOVER': np.cumsum(np.random.normal(0, 1.5, len(dates)))
}, index=dates)

cs01_exposure = 100_000  # $100K CS01 exposure

# ------------------------------------
# Signal Generation Function
# ------------------------------------
def generate_signals(price, short_window, long_window, rsi_period, rsi_buy, rsi_sell):
    sma_short = SMAIndicator(price, short_window).sma_indicator()
    sma_long = SMAIndicator(price, long_window).sma_indicator()
    macd_diff = MACD(price).macd_diff()
    rsi = RSIIndicator(price, rsi_period).rsi()

    signals = pd.DataFrame(index=price.index)
    signals['sma'] = np.where(sma_short > sma_long, 1, -1)
    signals['macd'] = np.where(macd_diff > 0, 1, -1)
    signals['rsi'] = np.where(rsi < rsi_buy, 1, np.where(rsi > rsi_sell, -1, 0))
    total = signals.sum(axis=1)
    combined_signal = np.where(total > 0, 1, np.where(total < 0, -1, 0))
    return pd.Series(combined_signal, index=price.index), signals

# ------------------------------------
# Optimization Objective
# ------------------------------------
def objective(trial, price):
    short_w = trial.suggest_int('short_window', 5, 20)
    long_w = trial.suggest_int('long_window', 21, 60)
    rsi_p = trial.suggest_int('rsi_period', 5, 20)
    rsi_b = trial.suggest_int('rsi_buy', 20, 40)
    rsi_s = trial.suggest_int('rsi_sell', 60, 80)

    signal, _ = generate_signals(price, short_w, long_w, rsi_p, rsi_b, rsi_s)
    change = price.diff().shift(-1)
    strat_return = (change * signal).dropna()
    if strat_return.std() == 0:
        return 0
    return -strat_return.mean() / strat_return.std()

# ------------------------------------
# Optimize & Generate Signals
# ------------------------------------
optimized_signals = pd.DataFrame(index=cds_data.index)
best_params = {}
individual_performance = {}

for col in cds_data.columns:
    price_series = cds_data[col].fillna(method='ffill')
    study = optuna.create_study(direction='minimize')
    study.optimize(lambda trial: objective(trial, price_series), n_trials=30)
    params = study.best_params
    best_params[col] = params
    full_signal, parts = generate_signals(price_series, **params)
    optimized_signals[col] = full_signal

# ------------------------------------
# Filter Signals: Alternating Buy/Sell Only
# ------------------------------------
def filter_signals(signal_series):
    filtered = []
    last_signal = 0
    for s in signal_series:
        if s == last_signal or s == 0:
            filtered.append(0)
        else:
            filtered.append(s)
            last_signal = s
    return pd.Series(filtered, index=signal_series.index)

filtered_signals = optimized_signals.apply(filter_signals)

# ------------------------------------
# Strategy PnL Summary
# ------------------------------------
strategy_results = {}

for index in cds_data.columns:
    signal = optimized_signals[index].fillna(0)
    price = cds_data[index].fillna(method='ffill')
    spread_change = price.diff().shift(-1)
    pnl_bps = signal * spread_change
    pnl_bps = pnl_bps.dropna()
    cash_pnl = pnl_bps * cs01_exposure / 10000

    strategy_results[index] = {
        "Mean Return (bps)": pnl_bps.mean(),
        "Volatility (bps)": pnl_bps.std(),
        "Sharpe": pnl_bps.mean() / pnl_bps.std() if pnl_bps.std() != 0 else 0,
        "Total PnL (bps)": pnl_bps.sum(),
        "Total PnL ($)": cash_pnl.sum()
    }

strategy_perf_df = pd.DataFrame(strategy_results).T.sort_values(by="Sharpe", ascending=False)
print("\n📈 Overall Strategy Performance Summary:")
print(strategy_perf_df)

# ------------------------------------
# Individual Signal Component Performance
# ------------------------------------
component_pnl_summary = []

for index in cds_data.columns:
    price = cds_data[index].fillna(method='ffill')
    params = best_params[index]

    sma_short = SMAIndicator(price, params['short_window']).sma_indicator()
    sma_long = SMAIndicator(price, params['long_window']).sma_indicator()
    sma_signal = np.where(sma_short > sma_long, 1, -1)

    macd_signal = np.where(MACD(price).macd_diff() > 0, 1, -1)

    rsi_val = RSIIndicator(price, params['rsi_period']).rsi()
    rsi_signal = np.where(rsi_val < params['rsi_buy'], 1, np.where(rsi_val > params['rsi_sell'], -1, 0))

    signals = {
        'SMA': {
            'signal': sma_signal,
            'params': f"short={params['short_window']}, long={params['long_window']}"
        },
        'MACD': {
            'signal': macd_signal,
            'params': "default"
        },
        'RSI': {
            'signal': rsi_signal,
            'params': f"period={params['rsi_period']}, buy={params['rsi_buy']}, sell={params['rsi_sell']}"
        }
    }

    for signal_type, sig_info in signals.items():
        signal = sig_info['signal']
        pnl_bps = signal * price.diff().shift(-1)
        pnl_bps = pnl_bps.dropna()
        cash_pnl = pnl_bps * cs01_exposure / 10000

        component_pnl_summary.append({
            'CDS Index': index,
            'Signal Type': signal_type,
            'Mean Return (bps)': round(pnl_bps.mean(), 3),
            'Volatility (bps)': round(pnl_bps.std(), 3),
            'Sharpe': round(pnl_bps.mean() / pnl_bps.std(), 3) if pnl_bps.std() != 0 else 0,
            'Total PnL (bps)': round(pnl_bps.sum(), 2),
            'Total PnL ($)': round(cash_pnl.sum(), 2),
            'Parameters': sig_info['params']
        })

component_pnl_df = pd.DataFrame(component_pnl_summary)
component_pnl_df = component_pnl_df.sort_values(by=['CDS Index', 'Sharpe'], ascending=[True, False])

print("\n📊 Individual Signal Component Performance with Parameters:")
print(component_pnl_df)

# ------------------------------------
# Plot Price + Buy/Sell Markers Separately
# ------------------------------------
for index in cds_data.columns:
    price = cds_data[index].fillna(method='ffill')
    signal = filtered_signals[index]

    buy = price[signal == 1]
    sell = price[signal == -1]

    plt.figure(figsize=(12, 4))
    plt.plot(price, label='Price', color='black')
    plt.plot(buy.index, buy.values, '^', color='green', markersize=8, label='Buy Signal')
    plt.plot(sell.index, sell.values, 'v', color='red', markersize=8, label='Sell Signal')
    plt.title(f"{index} - Price with Filtered Buy/Sell Signals")
    plt.legend()
    plt.grid(True)
    plt.tight_layout()
    plt.show()