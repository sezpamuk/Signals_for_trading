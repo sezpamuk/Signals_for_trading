# Function to find best hedge for each bond
def find_best_hedge(bond_ts, cds_ts, bond_id):
    bond_spreads = bond_ts[bond_id]
    correlations = {}
    hedge_ratios = {}
    r_squared = {}
    
    for cds_idx in cds_ts.columns:
        # Calculate correlation
        corr = np.corrcoef(bond_spreads, cds_ts[cds_idx])[0,1]
        correlations[cds_idx] = corr
        
        # Calculate hedge ratio via regression
        X = cds_ts[cds_idx].values.reshape(-1,1)
        y = bond_spreads.values
        model = LinearRegression().fit(X, y)
        hedge_ratios[cds_idx] = model.coef_[0]
        r_squared[cds_idx] = model.score(X, y)
    
    best_hedge = max(correlations, key=correlations.get)
    return {
        'bond_id': bond_id,
        'best_hedge': best_hedge,
        'correlation': correlations[best_hedge],
        'hedge_ratio': hedge_ratios[best_hedge],
        'r_squared': r_squared[best_hedge],
        'all_correlations': correlations,
        'all_rsquared': r_squared
    }

# Analyze first 10 bonds for demonstration
hedge_analysis = [find_best_hedge(bond_ts, cds_ts, bond_id) for bond_id in bond_ts.columns[:10]]

# Display results
for analysis in hedge_analysis[:3]:  # Show first 3 for brevity
    print(f"Bond: {analysis['bond_id']}")
    print(f"Best Hedge: {analysis['best_hedge']} (Correlation: {analysis['correlation']:.2f}, R²: {analysis['r_squared']:.2f})")
    print(f"Hedge Ratio: {analysis['hedge_ratio']:.4f}")
    print("---")


import pandas as pd
import numpy as np
from sklearn.linear_model import LinearRegression

def get_all_hedge_relationships(bond_ts, cds_ts, bond_id):
    """
    Calculate hedge relationships between a bond and all CDS indexes
    Returns a list of dictionaries with metrics for each CDS index
    """
    bond_spreads = bond_ts[bond_id]
    records = []
    
    for cds_idx in cds_ts.columns:
        # Calculate correlation
        corr = np.corrcoef(bond_spreads, cds_ts[cds_idx])[0, 1]
        
        # Calculate hedge ratio via regression
        X = cds_ts[cds_idx].values.reshape(-1, 1)
        y = bond_spreads.values
        model = LinearRegression().fit(X, y)
        hedge_ratio = model.coef_[0]
        r_squared = model.score(X, y)
        intercept = model.intercept_
        
        # Calculate hedge effectiveness metrics
        residual = y - model.predict(X)
        residual_std = np.std(residual)
        hedge_effectiveness = 1 - (residual_std / np.std(y))
        
        records.append({
            'bond_id': bond_id,
            'cds_index': cds_idx,
            'correlation': corr,
            'hedge_ratio': hedge_ratio,
            'r_squared': r_squared,
            'intercept': intercept,
            'residual_std': residual_std,
            'hedge_effectiveness': hedge_effectiveness,
            'is_hedgeable': r_squared > 0.5  # Custom threshold
        })
    
    return records

# Generate comprehensive results DataFrame
all_results = []

# Process all bonds - use bond_ts.columns for all bonds
for bond_id in bond_ts.columns:
    results = get_all_hedge_relationships(bond_ts, cds_ts, bond_id)
    all_results.extend(results)

# Create DataFrame with all relationships
relationships_df = pd.DataFrame(all_results)

# Create best hedge summary DataFrame
best_hedge_df = relationships_df.sort_values('r_squared', ascending=False)\
                                .groupby('bond_id').first().reset_index()

# Add best hedge details to bond data
bond_data_full = bond_data.merge(
    best_hedge_df[['bond_id', 'cds_index', 'hedge_ratio', 'r_squared', 'is_hedgeable']],
    on='bond_id',
    how='left'
)

# Rename columns for clarity
bond_data_full = bond_data_full.rename(columns={
    'cds_index': 'best_hedge',
    'hedge_ratio': 'best_hedge_ratio',
    'r_squared': 'best_hedge_r2'
})

# Save results to CSV
relationships_df.to_csv('all_hedge_relationships.csv', index=False)
bond_data_full.to_csv('bond_data_with_best_hedge.csv', index=False)

print("All relationships DataFrame:")
print(relationships_df.head())
print("\nBest hedge summary:")
print(best_hedge_df.head())
print("\nBond data with best hedge:")
print(bond_data_full.head())
