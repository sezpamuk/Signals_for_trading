import numpy as np
import pandas as pd
import matplotlib.pyplot as plt

from sklearn.preprocessing import MinMaxScaler
from sklearn.model_selection import train_test_split
from tensorflow.keras.models import Sequential
from tensorflow.keras.layers import LSTM, Dense

from skopt import gp_minimize
from skopt.space import Real, Integer
from skopt.utils import use_named_args

# === 1. Simulate Data ===
np.random.seed(42)
dates = pd.date_range(start='2022-01-01', periods=400)
df = pd.DataFrame({
    'pnl': np.random.normal(0, 0.5, size=len(dates)),
    'cds_level': 100 + np.cumsum(np.random.normal(0, 0.5, size=len(dates))),
    'cs01': np.random.uniform(0.5, 1.5, size=len(dates)),
}, index=dates)

# === 2. LSTM Forecasting Function ===
def forecast_cds_lstm(df, lookback=20):
    data = df[['cds_level']].copy()
    scaler = MinMaxScaler()
    scaled = scaler.fit_transform(data)
    
    X, y = [], []
    for i in range(lookback, len(scaled)):
        X.append(scaled[i-lookback:i])
        y.append(scaled[i])
    X, y = np.array(X), np.array(y)

    if len(X) < 10:  # Not enough data to train
        return pd.DataFrame()  

    X_train, X_test, y_train, y_test = train_test_split(X, y, test_size=0.2, shuffle=False)
    
    model = Sequential([
        LSTM(32, input_shape=(X_train.shape[1], X_train.shape[2])),
        Dense(1)
    ])
    model.compile(loss='mse', optimizer='adam')
    model.fit(X_train, y_train, epochs=10, batch_size=16, verbose=0)

    preds = model.predict(X, verbose=0)
    df_out = df.iloc[lookback:].copy()
    df_out['cds_pred'] = scaler.inverse_transform(preds)
    return df_out

# === 3. Feature Engineering ===
def add_features(df, zscore_window, vol_window, corr_window):
    df['cds_change'] = df['cds_level'].diff()
    df['cds_vol'] = df['cds_level'].rolling(window=vol_window).std()
    df['cds_z'] = (df['cds_level'] - df['cds_level'].rolling(window=zscore_window).mean()) / df['cds_vol']
    df['rolling_corr'] = df['pnl'].rolling(window=corr_window).corr(df['cds_change'])
    df.dropna(inplace=True)
    return df

# === 4. Hedging Logic ===
def simulate_hedging(df, buy_corr, zscore_thresh, cs01_multiplier):
    df['hedge_signal'] = ((df['rolling_corr'] > buy_corr) &
                          (df['cds_z'].abs() > zscore_thresh) &
                          (df['cds_pred'] > df['cds_level'])).astype(int)
    df['hedge_cs01'] = np.minimum(df['cs01'] * cs01_multiplier, 0.1)  # capped at 0.1m
    df['hedge_size'] = df['hedge_signal'] * df['hedge_cs01']
    df['hedge_pnl'] = df['hedge_size'] * df['cds_change'].abs()
    df['total_pnl'] = df['pnl'] + df['hedge_pnl']
    return df

# === 5. Optimization Setup ===
space = [
    Integer(10, 60, name='lookback'),
    Real(0.2, 1.0, name='buy_corr'),
    Real(0.1, 2.0, name='cs01_multiplier'),
    Real(0.5, 2.0, name='zscore_thresh'),
    Integer(10, 40, name='zscore_window'),
    Integer(10, 40, name='vol_window'),
    Integer(10, 40, name='corr_window')
]

@use_named_args(space)
def objective(**params):
    df_lstm = forecast_cds_lstm(df.copy(), lookback=params['lookback'])
    if df_lstm.empty:
        return 1e6  # Penalize invalid lookback resulting in no data
    
    df_feat = add_features(df_lstm, params['zscore_window'], params['vol_window'], params['corr_window'])
    if df_feat.empty:
        return 1e6  # Penalize if feature engineering fails
    
    df_hedged = simulate_hedging(df_feat, params['buy_corr'], params['zscore_thresh'], params['cs01_multiplier'])
    
    pnl_gain = df_hedged['total_pnl'].sum()
    loss_days = (df_hedged['total_pnl'] < 0).sum()
    # Objective: maximize pnl_gain and minimize loss days
    return -pnl_gain + loss_days * 0.1

# === 6. Run Bayesian Optimization ===
res = gp_minimize(objective, space, n_calls=30, random_state=42)

best_params = dict(zip(
    ['lookback', 'buy_corr', 'cs01_multiplier', 'zscore_thresh', 'zscore_window', 'vol_window', 'corr_window'],
    res.x
))

print("Best Parameters Found:")
for k, v in best_params.items():
    print(f"{k}: {v}")

# === 7. Final Simulation with Best Params ===
df_lstm_final = forecast_cds_lstm(df.copy(), lookback=best_params['lookback'])
df_feat_final = add_features(df_lstm_final, best_params['zscore_window'], best_params['vol_window'], best_params['corr_window'])
df_final = simulate_hedging(df_feat_final, best_params['buy_corr'], best_params['zscore_thresh'], best_params['cs01_multiplier'])

# === 8. Plot PnL Before and After Hedging ===
plt.figure(figsize=(12, 6))
plt.plot(df_final.index, df_final['pnl'].cumsum(), label='Unhedged PnL', linestyle='--')
plt.plot(df_final.index, df_final['total_pnl'].cumsum(), label='Hedged PnL (Hybrid)', linewidth=2)
plt.title('Cumulative PnL: LSTM + Signal-Based Hedge Strategy')
plt.xlabel('Date')
plt.ylabel('Cumulative PnL')
plt.legend()
plt.grid(True)
plt.tight_layout()
plt.show()